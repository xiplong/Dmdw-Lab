{
 "cells": [
  {
   "cell_type": "code",
   "execution_count": 2,
   "id": "8166b549",
   "metadata": {},
   "outputs": [
    {
     "name": "stdout",
     "output_type": "stream",
     "text": [
      "Mean is :  43.333333333333336\n"
     ]
    }
   ],
   "source": [
    "#mean\n",
    "l=[10,20,30,80,70,50]\n",
    "n=len(l)\n",
    "s=0\n",
    "for i in range(0,n):\n",
    "    s=s+l[i]\n",
    "mean=s/n\n",
    "print(\"Mean is : \",mean)"
   ]
  },
  {
   "cell_type": "code",
   "execution_count": 5,
   "id": "1777928d",
   "metadata": {},
   "outputs": [
    {
     "name": "stdout",
     "output_type": "stream",
     "text": [
      "{50}\n"
     ]
    }
   ],
   "source": [
    "#mode\n",
    "l=[10,20,30,80,50,70,50]\n",
    "unique=[]\n",
    "mod=[]\n",
    "for i in l:\n",
    "    if i not in unique:\n",
    "        unique.append(i)\n",
    "    else:\n",
    "        mod.append(i)\n",
    "print(set(mod))"
   ]
  },
  {
   "cell_type": "code",
   "execution_count": 6,
   "id": "6dbe6dee",
   "metadata": {},
   "outputs": [
    {
     "name": "stdout",
     "output_type": "stream",
     "text": [
      "50\n"
     ]
    }
   ],
   "source": [
    "#median\n",
    "l=[10,20,30,80,50,70,50]\n",
    "l.sort()\n",
    "n=len(l)\n",
    "if n%2==0:\n",
    "    m1=l[n//2]\n",
    "    m2=l[n//2]\n",
    "    median=l[n//2]\n",
    "else:\n",
    "    median=l[n//2]\n",
    "print(median)"
   ]
  },
  {
   "cell_type": "code",
   "execution_count": 11,
   "id": "ebb27fd8",
   "metadata": {},
   "outputs": [
    {
     "name": "stdout",
     "output_type": "stream",
     "text": [
      "567.3469387755101\n"
     ]
    }
   ],
   "source": [
    "#variance\n",
    "l=[10,20,30,80,50,70,50]\n",
    "l1=[]\n",
    "n=len(l)\n",
    "s=0\n",
    "s1=0\n",
    "for i in range(0,n):\n",
    "    s=s+l[i]\n",
    "mean=s/n\n",
    "for i in range(0,n):\n",
    "    l1.append(l[i]-mean)\n",
    "m=len(l1)\n",
    "for j in range(0,m):\n",
    "    l1[j]=l1[j]**2\n",
    "    s1=s1+l1[j]\n",
    "variance=s1/n\n",
    "print(variance)"
   ]
  },
  {
   "cell_type": "code",
   "execution_count": 13,
   "id": "0194978e",
   "metadata": {},
   "outputs": [
    {
     "name": "stdout",
     "output_type": "stream",
     "text": [
      "The original list : [10, 20, 30, 80, 50, 70, 50]\n",
      "Standard deviation of sample is : 23.81904571504724\n"
     ]
    }
   ],
   "source": [
    "l =[10,20,30,80,50,70,50]\n",
    "print(\"The original list : \" + str(l))\n",
    "mean = sum(l) / len(l)\n",
    "variance = sum([((x - mean) ** 2) for x in l]) / len(l)\n",
    "res = variance ** 0.5\n",
    "print(\"Standard deviation of sample is : \" + str(res))\n"
   ]
  },
  {
   "cell_type": "code",
   "execution_count": null,
   "id": "1b1c802b",
   "metadata": {},
   "outputs": [],
   "source": []
  }
 ],
 "metadata": {
  "kernelspec": {
   "display_name": "Python 3 (ipykernel)",
   "language": "python",
   "name": "python3"
  },
  "language_info": {
   "codemirror_mode": {
    "name": "ipython",
    "version": 3
   },
   "file_extension": ".py",
   "mimetype": "text/x-python",
   "name": "python",
   "nbconvert_exporter": "python",
   "pygments_lexer": "ipython3",
   "version": "3.10.9"
  }
 },
 "nbformat": 4,
 "nbformat_minor": 5
}
