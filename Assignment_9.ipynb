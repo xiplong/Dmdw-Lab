{
  "cells": [
    {
      "cell_type": "code",
      "source": [
        "import pandas as pd\n",
        "\n",
        "class NaiveBayesClassifier:\n",
        "    def __init__(self, data):\n",
        "        self.data = data\n",
        "        self.classes = set(data['Play'].values)\n",
        "\n",
        "    def calculate_probability(self, attribute, value, given_class):\n",
        "        class_data = self.data[self.data['Play'] == given_class]\n",
        "        attribute_data = class_data[class_data[attribute] == value]\n",
        "        count_attribute_given_class = len(attribute_data)\n",
        "        count_class = len(class_data)\n",
        "        probability = count_attribute_given_class / count_class\n",
        "        return probability\n",
        "\n",
        "    def predict(self, Outlook, Temperature, Humidity, Windy):\n",
        "        probabilities = []\n",
        "\n",
        "        for given_class in self.classes:\n",
        "            # Calculate P(Outlook|Class) * P(Temp|Class) * P(Humidity|Class) * P(Windy|Class) * P(Class)\n",
        "            probability = (\n",
        "                self.calculate_probability('Outlook', Outlook, given_class) *\n",
        "                self.calculate_probability('Temperature', Temperature, given_class) *\n",
        "                self.calculate_probability('Humidity', Humidity, given_class) *\n",
        "                self.calculate_probability('Windy', Windy, given_class) *\n",
        "                len(self.data[self.data['Play'] == given_class]) / len(self.data)\n",
        "            )\n",
        "            probabilities.append((given_class, probability))\n",
        "\n",
        "        # Choose the class with the highest probability\n",
        "        result_class = max(probabilities, key=lambda x: x[1])[0]\n",
        "        return result_class\n",
        "\n",
        "# Read data from CSV file\n",
        "file_path = 'golf_df.csv'\n",
        "df = pd.read_csv(file_path)\n",
        "\n",
        "# Create and train the Naive Bayes classifier\n",
        "classifier = NaiveBayesClassifier(df)\n",
        "\n",
        "# Make a prediction for the given conditions\n",
        "prediction = classifier.predict('rainy', 'hot', 'normal', True)\n",
        "print(f\"The predicted class is: {prediction}\")\n"
      ],
      "metadata": {
        "id": "UAURb57RzhzT",
        "outputId": "fe5643fa-0d71-4ca4-8006-5d647dacc498",
        "colab": {
          "base_uri": "https://localhost:8080/"
        }
      },
      "execution_count": null,
      "outputs": [
        {
          "output_type": "stream",
          "name": "stdout",
          "text": [
            "The predicted class is: yes\n"
          ]
        }
      ]
    }
  ],
  "metadata": {
    "colab": {
      "provenance": []
    },
    "kernelspec": {
      "display_name": "Python 3",
      "name": "python3"
    }
  },
  "nbformat": 4,
  "nbformat_minor": 0
}